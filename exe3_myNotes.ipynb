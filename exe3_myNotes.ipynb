{
 "cells": [
  {
   "cell_type": "markdown",
   "id": "ed2a7102",
   "metadata": {},
   "source": [
    "# Task 1 Hierarchical Clustering"
   ]
  },
  {
   "cell_type": "code",
   "execution_count": 5,
   "id": "0e708bad",
   "metadata": {},
   "outputs": [],
   "source": [
    "if False:\n",
    "\t%pip install scipy\n",
    "\t%pip install pandas\n",
    "\t%pip install numpy\n",
    "\t%pip install matplotlib\n",
    "\t%pip install scikit-learn\n"
   ]
  },
  {
   "cell_type": "code",
   "execution_count": 6,
   "id": "220ec013",
   "metadata": {},
   "outputs": [],
   "source": [
    "import scipy\n",
    "import numpy as np\n",
    "import pandas as pd\n",
    "import matplotlib.pyplot as plt\n",
    "import sklearn\n"
   ]
  },
  {
   "cell_type": "markdown",
   "id": "def63fdb",
   "metadata": {},
   "source": [
    "# Task 1 - Dendrogram"
   ]
  },
  {
   "cell_type": "markdown",
   "id": "9945a977",
   "metadata": {},
   "source": [
    "## a) Manhatten Distance + average Linkage"
   ]
  },
  {
   "attachments": {
    "image.png": {
     "image/png": "[encoded data removed]"
    }
   },
   "cell_type": "markdown",
   "id": "1ea7a5b2",
   "metadata": {},
   "source": [
    "![image.png](attachment:image.png)"
   ]
  },
  {
   "cell_type": "markdown",
   "id": "e1b8c0ae",
   "metadata": {},
   "source": [
    "```\n",
    "You want to cluster the six points seen above. You decide that you want to create\n",
    "a dendrogram using Manhatten distance and average linkage. How does the resulting\n",
    "dendrogram look like? Complete the template given above!\n",
    "```"
   ]
  },
  {
   "cell_type": "markdown",
   "id": "e348093d",
   "metadata": {},
   "source": [
    "# Theory"
   ]
  },
  {
   "cell_type": "markdown",
   "id": "513d3911",
   "metadata": {},
   "source": [
    "**Manhatten Distance** --> \"City Block Distance\" --> Distance = xDistance + yDistance \\\n",
    "**Average Linkage** --> every distance between the Points of Cluster A & B"
   ]
  },
  {
   "cell_type": "markdown",
   "id": "b398b85f",
   "metadata": {},
   "source": [
    "| Point | Coordinates |\n",
    "| ----- | ----------- |\n",
    "| A     | (1, 1)      |\n",
    "| B     | (2, 1)      |\n",
    "| C     | (1, 3)      |\n",
    "| D     | (4, 3)      |\n",
    "| E     | (5, 3)      |\n",
    "| F     | (3, 5)      |"
   ]
  },
  {
   "cell_type": "code",
   "execution_count": 7,
   "id": "487496ef",
   "metadata": {},
   "outputs": [],
   "source": [
    "pointList = [[1, 1, \"A\"],[2, 1, \"B\"],[1, 3, \"C\"],[4, 3, \"D\"],[5, 3, \"E\"],[3, 5, \"F\"]]\n"
   ]
  },
  {
   "cell_type": "markdown",
   "id": "83ab767d",
   "metadata": {},
   "source": [
    "### 1. Calculate Distances (manhatten)"
   ]
  },
  {
   "cell_type": "code",
   "execution_count": 8,
   "id": "15831057",
   "metadata": {},
   "outputs": [],
   "source": [
    "def calcManhattenDis(pointA, pointB):\n",
    "\txCoordA = pointA[0]\n",
    "\txCoordB = pointB[0]\n",
    "\tyCoordA = pointA[1]\n",
    "\tyCoordB = pointB[1]\n",
    "\tmanDistance = abs(xCoordA - xCoordB) + abs(yCoordA - yCoordB)\n",
    "\treturn manDistance\n"
   ]
  },
  {
   "cell_type": "code",
   "execution_count": 9,
   "id": "7b3f7ac7",
   "metadata": {},
   "outputs": [],
   "source": [
    "def getManDistMatrix(pointList):\n",
    "\tpointCounts = len(pointList)\n",
    "\tmanDist = np.zeros((pointCounts, pointCounts))\n",
    "\n",
    "\tfor i in range(0, len(pointList)):\n",
    "\n",
    "\t\t# dont need full matrices just every distance once\n",
    "\t\tfor n in range(i+1, len(pointList)):\n",
    "\t\t\tcurrentDistance = calcManhattenDis(pointList[i], pointList[n])\n",
    "\t\t\tmanDist[i][n] = currentDistance\n",
    "\t\t\t\n",
    "\t\t\t# dont need full matrices just every distance once\n",
    "\t\t\t#manDist[n][i] = currentDistance\n",
    "\n",
    "\treturn manDist\n"
   ]
  },
  {
   "cell_type": "code",
   "execution_count": 10,
   "id": "38a5a77d",
   "metadata": {},
   "outputs": [
    {
     "name": "stdout",
     "output_type": "stream",
     "text": [
      "[[0. 1. 2. 5. 6. 6.]\n",
      " [0. 0. 3. 4. 5. 5.]\n",
      " [0. 0. 0. 3. 4. 4.]\n",
      " [0. 0. 0. 0. 1. 3.]\n",
      " [0. 0. 0. 0. 0. 4.]\n",
      " [0. 0. 0. 0. 0. 0.]]\n"
     ]
    }
   ],
   "source": [
    "manDisMatrix = getManDistMatrix(pointList)\n",
    "print(manDisMatrix)\n"
   ]
  },
  {
   "cell_type": "markdown",
   "id": "bfd68bf8",
   "metadata": {},
   "source": [
    "### 2. Find minimum value"
   ]
  },
  {
   "cell_type": "code",
   "execution_count": 11,
   "id": "7c443b2d",
   "metadata": {},
   "outputs": [
    {
     "name": "stdout",
     "output_type": "stream",
     "text": [
      "0.0\n"
     ]
    }
   ],
   "source": [
    "minValue = np.min(manDisMatrix)\n",
    "print(minValue)\n"
   ]
  },
  {
   "cell_type": "markdown",
   "id": "def154c5",
   "metadata": {},
   "source": [
    "### 3. Flatten the matrices for easier searching"
   ]
  },
  {
   "cell_type": "code",
   "execution_count": 12,
   "id": "fb323402",
   "metadata": {},
   "outputs": [
    {
     "name": "stdout",
     "output_type": "stream",
     "text": [
      "[0. 1. 2. 5. 6. 6. 0. 0. 3. 4. 5. 5. 0. 0. 0. 3. 4. 4. 0. 0. 0. 0. 1. 3.\n",
      " 0. 0. 0. 0. 0. 4. 0. 0. 0. 0. 0. 0.]\n"
     ]
    }
   ],
   "source": [
    "flattedDisMatrices = manDisMatrix.flatten()\n",
    "print(flattedDisMatrices)\n"
   ]
  },
  {
   "cell_type": "markdown",
   "id": "3107dd46",
   "metadata": {},
   "source": [
    "### 4. take only uniques and sort them"
   ]
  },
  {
   "cell_type": "code",
   "execution_count": 13,
   "id": "d16550b3",
   "metadata": {},
   "outputs": [
    {
     "name": "stdout",
     "output_type": "stream",
     "text": [
      "Distances in the matrix: \t[1. 2. 3. 4. 5. 6.]\n"
     ]
    }
   ],
   "source": [
    "unique_sorted = np.unique(flattedDisMatrices)\n",
    "# since we dont want the 0 distances (distance from the points to itself we slice after the first element of the list)\n",
    "unique_sorted = unique_sorted[1:]\n",
    "\n",
    "print(f\"Distances in the matrix: \\t{unique_sorted}\")\n"
   ]
  },
  {
   "cell_type": "markdown",
   "id": "2a2a953a",
   "metadata": {},
   "source": [
    "### 5. get the concerning points/clusters"
   ]
  },
  {
   "cell_type": "markdown",
   "id": "902b7a14",
   "metadata": {},
   "source": [
    "For position of the values we can use *np.argwhere( [CONDITION] )*"
   ]
  },
  {
   "cell_type": "code",
   "execution_count": 14,
   "id": "dc9efebc",
   "metadata": {},
   "outputs": [
    {
     "name": "stdout",
     "output_type": "stream",
     "text": [
      "[[0 2]]\n"
     ]
    }
   ],
   "source": [
    "positions = np.argwhere(manDisMatrix == unique_sorted[1])\n",
    "print(positions)\n"
   ]
  },
  {
   "cell_type": "markdown",
   "id": "3124d0b6",
   "metadata": {},
   "source": [
    "### 6. combine them ..."
   ]
  },
  {
   "cell_type": "markdown",
   "id": "cbec2168",
   "metadata": {},
   "source": [
    "## and now loop the fun "
   ]
  },
  {
   "cell_type": "code",
   "execution_count": 15,
   "id": "de67cd2a",
   "metadata": {},
   "outputs": [],
   "source": [
    "def createBaseClusters(pointList):\n",
    "\t''' \n",
    "\tneed to create baseclusters from the pointList thus we can use the same functions later \n",
    "\t--> each Point 1D-Array\n",
    "\t--> each Cluster 2D-Array containing the points\n",
    "\t'''\n",
    "\tbaseClusters = []\n",
    "\tfor i in range(0, len(pointList)):\n",
    "\t\tbaseClusters.append([pointList[i]])\n",
    "\n",
    "\treturn baseClusters\n"
   ]
  },
  {
   "cell_type": "code",
   "execution_count": 16,
   "id": "12aca1e1",
   "metadata": {},
   "outputs": [],
   "source": [
    "def calcClusterDistanceMatrix(clusters):\n",
    "\n",
    "\t#generate clusterDistance matrices\n",
    "\tclusterDistances = np.zeros((len(clusters), len(clusters)))\n",
    "\t\n",
    "\t#calc average linkage\n",
    "\t\n",
    "\t#calc linkage combinations to calculate\n",
    "\n",
    "\tfor a in range(0, len(clusters)):\n",
    "\t\tclusterA = clusters[a]\n",
    "\t\tfor b in range(a+1, len(clusters)):\n",
    "\t\t\tclusterB = clusters[b]\n",
    "\n",
    "\t\t\taverageDistance = calcAverageLinkage(clusterA, clusterB)\n",
    "\t\t\tclusterDistances[a][b] = averageDistance\n",
    "\t#\n",
    "\n",
    "\n",
    "\treturn clusterDistances\n"
   ]
  },
  {
   "cell_type": "code",
   "execution_count": 17,
   "id": "e0bb3b7e",
   "metadata": {},
   "outputs": [],
   "source": [
    "def calcAverageLinkage(clusterA, clusterB):\n",
    "\tsumOfDistances = 0\n",
    "\tcalcs = 0\n",
    "\t\n",
    "\t#calculate the manhatten  distance between every point of cluster A to cluster B\n",
    "\tfor a in range(0, len(clusterA)):\n",
    "\t\tpointA = clusterA[a]\n",
    "\t\tfor b in range(0, len(clusterB)):\n",
    "\t\t\tpointB = clusterB[b]\n",
    "\n",
    "\t\t\tsumOfDistances += calcManhattenDis(pointA, pointB)\n",
    "\t\t\tcalcs += 1\n",
    "\n",
    "\t#calc the average\n",
    "\taverageLinkage = sumOfDistances / calcs\n",
    "\n",
    "\treturn averageLinkage\n"
   ]
  },
  {
   "cell_type": "code",
   "execution_count": 18,
   "id": "5d232de5",
   "metadata": {},
   "outputs": [],
   "source": [
    "def getNewClusters(oldClusters, distanceMatrix):\n",
    "\tnewClusters = []\n",
    "\ttoDeleteClusters = []\n",
    "\tflattedDisMatrices = distanceMatrix.flatten()\n",
    "\tuniqueSortedMatrices = np.unique(flattedDisMatrices)\n",
    "\t\n",
    "\t# since we dont want the 0 distances (distance from the points to itself we slice after the first element of the list)\n",
    "\tuniqueSortedMatrices = uniqueSortedMatrices[1:]\n",
    "\tprint(f\"the smallest Distance is: \\t{uniqueSortedMatrices[0]}\")\n",
    "\tconnectionsToMake = np.argwhere(distanceMatrix == uniqueSortedMatrices[0])\n",
    "\n",
    "\tfor c in connectionsToMake:\n",
    "\t\tprint(f\"creating new Clusters between: \\t{c}\")\n",
    "\n",
    "\n",
    "\tfor i in range(0, connectionsToMake.shape[0]):\n",
    "\t\t#combine new clusters\n",
    "\t\tcombinedCluster = []\n",
    "\n",
    "\t\tclusterA = (oldClusters[connectionsToMake[i][0]])\n",
    "\t\tclusterB = (oldClusters[connectionsToMake[i][1]])\n",
    "\n",
    "\t\tcombinedCluster.extend(clusterA)\n",
    "\t\tcombinedCluster.extend(clusterB)\n",
    "\n",
    "\t\ttoDeleteClusters.append(connectionsToMake[i][0])\n",
    "\t\ttoDeleteClusters.append(connectionsToMake[i][1])\n",
    "\n",
    "\t\tnewClusters.append(combinedCluster)\n",
    "\n",
    "\t#reverse index order to avoid running out of indexes when deleting\n",
    "\t#toDeleteClusters = toDeleteClusters.map(int)\n",
    "\ttoDeleteClusters = sorted(toDeleteClusters, reverse=True)\n",
    "\t#delete already used Clusters\n",
    "\tfor delCluster in toDeleteClusters:\n",
    "\t\tdel oldClusters[delCluster]\n",
    "\t\n",
    "\n",
    "\t#add untouched clusters to the new ones\n",
    "\t\n",
    "\tnewClusters.extend(oldClusters)\n",
    "\n",
    "\treturn newClusters\n",
    "\t"
   ]
  },
  {
   "cell_type": "code",
   "execution_count": 19,
   "id": "0c89230a",
   "metadata": {},
   "outputs": [],
   "source": [
    "def printClusters(clusters):\n",
    "\tfor i,cCluster in enumerate(clusters):\n",
    "\t\tprint(f\"The {i}. Cluster contains: \\t{cCluster}\")\n"
   ]
  },
  {
   "cell_type": "code",
   "execution_count": 20,
   "id": "97ff7adf",
   "metadata": {},
   "outputs": [
    {
     "name": "stdout",
     "output_type": "stream",
     "text": [
      "Distance Matrix: \n",
      " [[0. 1. 2. 5. 6. 6.]\n",
      " [0. 0. 3. 4. 5. 5.]\n",
      " [0. 0. 0. 3. 4. 4.]\n",
      " [0. 0. 0. 0. 1. 3.]\n",
      " [0. 0. 0. 0. 0. 4.]\n",
      " [0. 0. 0. 0. 0. 0.]]\n",
      "the smallest Distance is: \t1.0\n",
      "creating new Clusters between: \t[0 1]\n",
      "creating new Clusters between: \t[3 4]\n",
      "The 0. Cluster contains: \t[[1, 1, 'A'], [2, 1, 'B']]\n",
      "The 1. Cluster contains: \t[[4, 3, 'D'], [5, 3, 'E']]\n",
      "The 2. Cluster contains: \t[[1, 3, 'C']]\n",
      "The 3. Cluster contains: \t[[3, 5, 'F']]\n"
     ]
    }
   ],
   "source": [
    "#need to transfer the base list into a base cluster list by defining a cluster for each point\n",
    "baseClusters = createBaseClusters(pointList)\n",
    "\n",
    "distanceMatrix = calcClusterDistanceMatrix(baseClusters)\n",
    "print(\"Distance Matrix: \\n\", distanceMatrix)\n",
    "\n",
    "newClusters = getNewClusters(baseClusters, distanceMatrix)\n",
    "printClusters(newClusters)\n"
   ]
  },
  {
   "cell_type": "code",
   "execution_count": 21,
   "id": "dd6246b1",
   "metadata": {},
   "outputs": [
    {
     "name": "stdout",
     "output_type": "stream",
     "text": [
      "Distance Matrix: \n",
      " [[0.  5.  2.5 5.5]\n",
      " [0.  0.  3.5 3.5]\n",
      " [0.  0.  0.  4. ]\n",
      " [0.  0.  0.  0. ]]\n",
      "the smallest Distance is: \t2.5\n",
      "creating new Clusters between: \t[0 2]\n",
      "The 0. Cluster contains: \t[[1, 1, 'A'], [2, 1, 'B'], [1, 3, 'C']]\n",
      "The 1. Cluster contains: \t[[4, 3, 'D'], [5, 3, 'E']]\n",
      "The 2. Cluster contains: \t[[3, 5, 'F']]\n"
     ]
    }
   ],
   "source": [
    "distanceMatrix = calcClusterDistanceMatrix(newClusters)\n",
    "print(\"Distance Matrix: \\n\", distanceMatrix)\n",
    "\n",
    "newClusters = getNewClusters(newClusters, distanceMatrix)\n",
    "printClusters(newClusters)\n"
   ]
  },
  {
   "cell_type": "code",
   "execution_count": 22,
   "id": "e10a5ce8",
   "metadata": {},
   "outputs": [
    {
     "name": "stdout",
     "output_type": "stream",
     "text": [
      "Distance Matrix: \n",
      " [[0.  4.5 5. ]\n",
      " [0.  0.  3.5]\n",
      " [0.  0.  0. ]]\n",
      "the smallest Distance is: \t3.5\n",
      "creating new Clusters between: \t[1 2]\n",
      "The 0. Cluster contains: \t[[4, 3, 'D'], [5, 3, 'E'], [3, 5, 'F']]\n",
      "The 1. Cluster contains: \t[[1, 1, 'A'], [2, 1, 'B'], [1, 3, 'C']]\n"
     ]
    }
   ],
   "source": [
    "distanceMatrix = calcClusterDistanceMatrix(newClusters)\n",
    "print(\"Distance Matrix: \\n\", distanceMatrix)\n",
    "\n",
    "newClusters = getNewClusters(newClusters, distanceMatrix)\n",
    "printClusters(newClusters)\n"
   ]
  },
  {
   "cell_type": "code",
   "execution_count": 23,
   "id": "291fcf59",
   "metadata": {},
   "outputs": [
    {
     "name": "stdout",
     "output_type": "stream",
     "text": [
      "Distance Matrix: \n",
      " [[0.         4.66666667]\n",
      " [0.         0.        ]]\n",
      "the smallest Distance is: \t4.666666666666667\n",
      "creating new Clusters between: \t[0 1]\n",
      "The 0. Cluster contains: \t[[4, 3, 'D'], [5, 3, 'E'], [3, 5, 'F'], [1, 1, 'A'], [2, 1, 'B'], [1, 3, 'C']]\n"
     ]
    }
   ],
   "source": [
    "distanceMatrix = calcClusterDistanceMatrix(newClusters)\n",
    "print(\"Distance Matrix: \\n\", distanceMatrix)\n",
    "\n",
    "newClusters = getNewClusters(newClusters, distanceMatrix)\n",
    "printClusters(newClusters)\n"
   ]
  },
  {
   "cell_type": "markdown",
   "id": "782fc54a",
   "metadata": {},
   "source": [
    "##  Easy Solution"
   ]
  },
  {
   "cell_type": "code",
   "execution_count": 24,
   "id": "146cce65",
   "metadata": {},
   "outputs": [
    {
     "data": {
      "image/png": "[encoded data removed]",
      "text/plain": [
       "<Figure size 800x400 with 1 Axes>"
      ]
     },
     "metadata": {},
     "output_type": "display_data"
    }
   ],
   "source": [
    "pointList = [[1, 1],[2, 1],[1, 3],[4, 3],[5, 3],[3, 5]]\n",
    "\n",
    "# calculate average Linkage \n",
    "linked = scipy.cluster.hierarchy.linkage(pointList, method='average')\n",
    "\n",
    "# create dendrogramm graphics\n",
    "plt.figure(figsize=(8, 4))\n",
    "scipy.cluster.hierarchy.dendrogram(linked)\n",
    "plt.title(\"Dendrogramm (Average Linkage)\")\n",
    "plt.xlabel(\"DataPoints\")\n",
    "plt.ylabel(\"Distance\")\n",
    "plt.grid(True)\n",
    "plt.tight_layout()\n",
    "plt.show()\n"
   ]
  },
  {
   "cell_type": "markdown",
   "id": "b7ff08c5",
   "metadata": {},
   "source": [
    "### b)"
   ]
  },
  {
   "cell_type": "markdown",
   "id": "8fe2cc46",
   "metadata": {},
   "source": [
    "```\n",
    "You want to cluster the same six points, but using maximum norm and complete linkage.\n",
    "How does the resulting dendrogram look like? Complete the template below!\n",
    "\n",
    "```"
   ]
  },
  {
   "cell_type": "markdown",
   "id": "50a2accb",
   "metadata": {},
   "source": [
    "|||\n",
    "|-----------------|-----------------------------------------------|\n",
    "|**maximum norm** \t\t| --> Distance = Maximum Value from either x- or y-distance|\n",
    "|**complete Linkage** \t| --> use the furthest points|"
   ]
  },
  {
   "cell_type": "code",
   "execution_count": 25,
   "id": "21da9e13",
   "metadata": {},
   "outputs": [],
   "source": [
    "def maxDistance(pointA, pointB):\n",
    "\txDistance = abs(pointA[0] - pointB[0])\n",
    "\tyDistance = abs(pointA[1] - pointB[1])\n",
    "\tmaxDist = max(xDistance, yDistance)\n",
    "\n",
    "\treturn maxDist\n"
   ]
  },
  {
   "cell_type": "code",
   "execution_count": 26,
   "id": "b6190cba",
   "metadata": {},
   "outputs": [],
   "source": [
    "def calcCompleteLinkage(clusterA, clusterB):\n",
    "\tcompleteDistance = 0\n",
    "\t\n",
    "\t#calculate the manhatten  distance between every point of cluster A to cluster B\n",
    "\tfor a in range(0, len(clusterA)):\n",
    "\t\tpointA = clusterA[a]\n",
    "\t\tfor b in range(0, len(clusterB)):\n",
    "\t\t\tpointB = clusterB[b]\n",
    "\n",
    "\t\t\tcompleteDistance = max(completeDistance, maxDistance(pointA, pointB))\n",
    "\n",
    "\treturn completeDistance\n"
   ]
  },
  {
   "cell_type": "code",
   "execution_count": 27,
   "id": "843cbe41",
   "metadata": {},
   "outputs": [],
   "source": [
    "def calcMaxCompleteDistMat(clusters):\n",
    "\n",
    "\t#generate clusterDistance matrices\n",
    "\tclusterDistances = np.zeros((len(clusters), len(clusters)))\n",
    "\t\n",
    "\t#calc average linkage\n",
    "\t\n",
    "\t#calc linkage combinations to calculate\n",
    "\n",
    "\tfor a in range(0, len(clusters)):\n",
    "\t\tclusterA = clusters[a]\n",
    "\t\tfor b in range(a+1, len(clusters)):\n",
    "\t\t\tclusterB = clusters[b]\n",
    "\n",
    "\t\t\tcompleteDistance = calcCompleteLinkage(clusterA, clusterB)\n",
    "\t\t\tclusterDistances[a][b] = completeDistance\n",
    "\t#\n",
    "\n",
    "\n",
    "\treturn clusterDistances\n"
   ]
  },
  {
   "cell_type": "code",
   "execution_count": 28,
   "id": "bffc594b",
   "metadata": {},
   "outputs": [],
   "source": [
    "def getNewClusters(oldClusters, distanceMatrix):\n",
    "\tnewClusters = []\n",
    "\ttoDeleteClusters = []\n",
    "\tflattedDisMatrices = distanceMatrix.flatten()\n",
    "\tuniqueSortedMatrices = np.unique(flattedDisMatrices)\n",
    "\t\n",
    "\t# since we dont want the 0 distances (distance from the points to itself we slice after the first element of the list)\n",
    "\tuniqueSortedMatrices = uniqueSortedMatrices[1:]\n",
    "\tprint(f\"the smallest Distance is: \\t{uniqueSortedMatrices[0]}\")\n",
    "\tconnectionsToMake = np.argwhere(distanceMatrix == uniqueSortedMatrices[0])\n",
    "\n",
    "\tfor c in connectionsToMake:\n",
    "\t\tprint(f\"creating new Clusters between: \\t{c}\")\n",
    "\n",
    "\n",
    "\tfor i in range(0, connectionsToMake.shape[0]):\n",
    "\t\t#combine new clusters\n",
    "\t\tcombinedCluster = []\n",
    "\n",
    "\t\tclusterA = (oldClusters[connectionsToMake[i][0]])\n",
    "\t\tclusterB = (oldClusters[connectionsToMake[i][1]])\n",
    "\n",
    "\t\tcombinedCluster.extend(clusterA)\n",
    "\t\tcombinedCluster.extend(clusterB)\n",
    "\n",
    "\t\ttoDeleteClusters.append(connectionsToMake[i][0])\n",
    "\t\ttoDeleteClusters.append(connectionsToMake[i][1])\n",
    "\n",
    "\t\tnewClusters.append(combinedCluster)\n",
    "\n",
    "\t#reverse index order to avoid running out of indexes when deleting\n",
    "\t#toDeleteClusters = toDeleteClusters.map(int)\n",
    "\ttoDeleteClusters = sorted(toDeleteClusters, reverse=True)\n",
    "\t#delete already used Clusters\n",
    "\tfor delCluster in toDeleteClusters:\n",
    "\t\tdel oldClusters[delCluster]\n",
    "\t\n",
    "\n",
    "\t#add untouched clusters to the new ones\n",
    "\t\n",
    "\tnewClusters.extend(oldClusters)\n",
    "\n",
    "\treturn newClusters\n"
   ]
  },
  {
   "cell_type": "code",
   "execution_count": 29,
   "id": "790e8a0c",
   "metadata": {},
   "outputs": [
    {
     "name": "stdout",
     "output_type": "stream",
     "text": [
      "Distance Matrix: \n",
      " [[0. 1. 2. 3. 4. 4.]\n",
      " [0. 0. 2. 2. 3. 4.]\n",
      " [0. 0. 0. 3. 4. 2.]\n",
      " [0. 0. 0. 0. 1. 2.]\n",
      " [0. 0. 0. 0. 0. 2.]\n",
      " [0. 0. 0. 0. 0. 0.]]\n",
      "the smallest Distance is: \t1.0\n",
      "creating new Clusters between: \t[0 1]\n",
      "creating new Clusters between: \t[3 4]\n",
      "The 0. Cluster contains: \t[[1, 1, 'A'], [2, 1, 'B']]\n",
      "The 1. Cluster contains: \t[[4, 3, 'D'], [5, 3, 'E']]\n",
      "The 2. Cluster contains: \t[[1, 3, 'C']]\n",
      "The 3. Cluster contains: \t[[3, 5, 'F']]\n"
     ]
    }
   ],
   "source": [
    "pointList = [[1, 1, \"A\"],[2, 1, \"B\"],[1, 3, \"C\"],[4, 3, \"D\"],[5, 3, \"E\"],[3, 5, \"F\"]]\n",
    "\n",
    "#need to transfer the base list into a base cluster list by defining a cluster for each point\n",
    "baseClusters = createBaseClusters(pointList)\n",
    "\n",
    "distanceMatrix = calcMaxCompleteDistMat(baseClusters)\n",
    "print(\"Distance Matrix: \\n\", distanceMatrix)\n",
    "\n",
    "newClusters = getNewClusters(baseClusters, distanceMatrix)\n",
    "printClusters(newClusters)\n"
   ]
  },
  {
   "cell_type": "code",
   "execution_count": 30,
   "id": "8fdff376",
   "metadata": {},
   "outputs": [
    {
     "name": "stdout",
     "output_type": "stream",
     "text": [
      "Distance Matrix: \n",
      " [[0. 4. 2. 4.]\n",
      " [0. 0. 4. 2.]\n",
      " [0. 0. 0. 2.]\n",
      " [0. 0. 0. 0.]]\n",
      "the smallest Distance is: \t2.0\n",
      "creating new Clusters between: \t[0 2]\n",
      "creating new Clusters between: \t[1 3]\n",
      "creating new Clusters between: \t[2 3]\n"
     ]
    },
    {
     "ename": "IndexError",
     "evalue": "list assignment index out of range",
     "output_type": "error",
     "traceback": [
      "\u001b[31m---------------------------------------------------------------------------\u001b[39m",
      "\u001b[31mIndexError\u001b[39m                                Traceback (most recent call last)",
      "\u001b[36mCell\u001b[39m\u001b[36m \u001b[39m\u001b[32mIn[30]\u001b[39m\u001b[32m, line 4\u001b[39m\n\u001b[32m      1\u001b[39m distanceMatrix = calcMaxCompleteDistMat(newClusters)\n\u001b[32m      2\u001b[39m \u001b[38;5;28mprint\u001b[39m(\u001b[33m\"\u001b[39m\u001b[33mDistance Matrix: \u001b[39m\u001b[38;5;130;01m\\n\u001b[39;00m\u001b[33m\"\u001b[39m, distanceMatrix)\n\u001b[32m----> \u001b[39m\u001b[32m4\u001b[39m newClusters = \u001b[43mgetNewClusters\u001b[49m\u001b[43m(\u001b[49m\u001b[43mnewClusters\u001b[49m\u001b[43m,\u001b[49m\u001b[43m \u001b[49m\u001b[43mdistanceMatrix\u001b[49m\u001b[43m)\u001b[49m\n\u001b[32m      5\u001b[39m printClusters(newClusters)\n",
      "\u001b[36mCell\u001b[39m\u001b[36m \u001b[39m\u001b[32mIn[28]\u001b[39m\u001b[32m, line 36\u001b[39m, in \u001b[36mgetNewClusters\u001b[39m\u001b[34m(oldClusters, distanceMatrix)\u001b[39m\n\u001b[32m     34\u001b[39m \u001b[38;5;66;03m#delete already used Clusters\u001b[39;00m\n\u001b[32m     35\u001b[39m \u001b[38;5;28;01mfor\u001b[39;00m delCluster \u001b[38;5;129;01min\u001b[39;00m toDeleteClusters:\n\u001b[32m---> \u001b[39m\u001b[32m36\u001b[39m \t\u001b[38;5;28;01mdel\u001b[39;00m \u001b[43moldClusters\u001b[49m\u001b[43m[\u001b[49m\u001b[43mdelCluster\u001b[49m\u001b[43m]\u001b[49m\n\u001b[32m     39\u001b[39m \u001b[38;5;66;03m#add untouched clusters to the new ones\u001b[39;00m\n\u001b[32m     41\u001b[39m newClusters.extend(oldClusters)\n",
      "\u001b[31mIndexError\u001b[39m: list assignment index out of range"
     ]
    }
   ],
   "source": [
    "distanceMatrix = calcMaxCompleteDistMat(newClusters)\n",
    "print(\"Distance Matrix: \\n\", distanceMatrix)\n",
    "\n",
    "newClusters = getNewClusters(newClusters, distanceMatrix)\n",
    "printClusters(newClusters)\n"
   ]
  },
  {
   "cell_type": "markdown",
   "id": "13d1aa5d",
   "metadata": {},
   "source": [
    "## using libraries"
   ]
  },
  {
   "cell_type": "code",
   "execution_count": 31,
   "id": "5546dc8c",
   "metadata": {},
   "outputs": [
    {
     "data": {
      "image/png": "[encoded data removed]",
      "text/plain": [
       "<Figure size 800x400 with 1 Axes>"
      ]
     },
     "metadata": {},
     "output_type": "display_data"
    }
   ],
   "source": [
    "pointList = [[1, 1],[2, 1],[1, 3],[4, 3],[5, 3],[3, 5]]\n",
    "\n",
    "# Step 1: Compute pairwise distances using maximum norm (Chebyshev)\n",
    "distance_matrix = scipy.spatial.distance.pdist(pointList, metric='chebyshev')\n",
    "\n",
    "# Step 2: Perform hierarchical clustering using complete linkage\n",
    "Z = scipy.cluster.hierarchy.linkage(distance_matrix, method='complete')\n",
    "\n",
    "\n",
    "# Step 3: Plot the dendrogram\n",
    "plt.figure(figsize=(8, 4))\n",
    "scipy.cluster.hierarchy.dendrogram(Z)\n",
    "plt.title(\"Dendrogram (Max Distance + Complete Linkage)\")\n",
    "plt.xlabel(\"Sample Index\")\n",
    "plt.ylabel(\"Distance\")\n",
    "plt.tight_layout()\n",
    "plt.show()\n"
   ]
  },
  {
   "cell_type": "markdown",
   "id": "41789e1a",
   "metadata": {},
   "source": [
    "# Task 2"
   ]
  },
  {
   "cell_type": "markdown",
   "id": "e840c97a",
   "metadata": {},
   "source": [
    "|x|y|\n",
    "|-|-|\n",
    "|1| 1|\n",
    "|1| 2|\n",
    "|2| 2|\n",
    "|4| 3|\n",
    "|4| 5|\n",
    "|5| 4|\n",
    "|5| 6|\n",
    "|5| 7|\n",
    "|6| 4|\n",
    "|6| 5|\n",
    "|6| 6|\n",
    "|6| 7|\n",
    "|7| 5|\n",
    "|7| 6|\n",
    "|7| 8|\n",
    "|7| 9|\n",
    "|8| 6|\n",
    "|10 | 11|\n",
    "|11 | 10|\n",
    "|11 | 11|\n",
    "|12 | 11|"
   ]
  },
  {
   "cell_type": "code",
   "execution_count": 32,
   "id": "60aad1d6",
   "metadata": {},
   "outputs": [],
   "source": [
    "pointList = [[1, 1],[1, 2],[2, 2],[4, 3],[4, 5],[5, 4],[5, 6],[5, 7],[6, 4],[6, 5],[6, 6],[6, 7],[7, 5],[7, 6],[7, 8],[7, 9],[8, 6],[10, 11],[11, 10],[11, 11],[12, 11]]\n"
   ]
  },
  {
   "cell_type": "code",
   "execution_count": 33,
   "id": "1bf2c98e",
   "metadata": {},
   "outputs": [],
   "source": [
    "import numpy as np\n",
    "import matplotlib.pyplot as plt\n",
    "from sklearn.cluster import DBSCAN\n",
    "\n",
    "def generateDBSCANplot(data, minPts, eps):\n",
    "\t\n",
    "\t# Convert to numpy array\n",
    "\tX = np.array(data)\n",
    "\n",
    "\t# DBSCAN clustering\n",
    "\tdbscan = DBSCAN(eps, min_samples=minPts)\n",
    "\tlabels = dbscan.fit_predict(X)\n",
    "\n",
    "\t# Plotting\n",
    "\tplt.figure(figsize=(8, 6))\n",
    "\tunique_labels = set(labels)\n",
    "\n",
    "\tcolors = [plt.cm.Spectral(each) for each in np.linspace(0, 1, len(unique_labels))]\n",
    "\n",
    "\tfor label, col in zip(unique_labels, colors):\n",
    "\t\tif label == -1:\n",
    "\t\t\t# Noise\n",
    "\t\t\tcol = [0, 0, 0, 1]\n",
    "\t\t\tmarker = 'x'\n",
    "\t\telse:\n",
    "\t\t\tmarker = 'o'\n",
    "\n",
    "\t\tclass_member_mask = (labels == label)\n",
    "\t\txy = X[class_member_mask]\n",
    "\n",
    "\t\tplt.plot(xy[:, 0], xy[:, 1], marker, markerfacecolor=tuple(col),\n",
    "\t\t\t\tmarkeredgecolor='k', markersize=10, linestyle='')\n",
    "\n",
    "\tplt.title('DBSCAN Clustering')\n",
    "\tplt.xlabel('X')\n",
    "\tplt.ylabel('Y')\n",
    "\tplt.grid(True)\n",
    "\tplt.show()\n"
   ]
  },
  {
   "cell_type": "code",
   "execution_count": 34,
   "id": "811edbed",
   "metadata": {},
   "outputs": [
    {
     "data": {
      "image/png": "[encoded data removed]",
      "text/plain": [
       "<Figure size 800x600 with 1 Axes>"
      ]
     },
     "metadata": {},
     "output_type": "display_data"
    }
   ],
   "source": [
    "generateDBSCANplot(pointList, 4, 2)\n",
    "\n"
   ]
  },
  {
   "cell_type": "code",
   "execution_count": 35,
   "id": "7185cc50",
   "metadata": {},
   "outputs": [
    {
     "data": {
      "image/png": "[encoded data removed]",
      "text/plain": [
       "<Figure size 800x600 with 1 Axes>"
      ]
     },
     "metadata": {},
     "output_type": "display_data"
    }
   ],
   "source": [
    "generateDBSCANplot(pointList, 3, 1)\n"
   ]
  },
  {
   "cell_type": "code",
   "execution_count": 36,
   "id": "7c97d44a",
   "metadata": {},
   "outputs": [
    {
     "data": {
      "image/png": "[encoded data removed]",
      "text/plain": [
       "<Figure size 800x600 with 1 Axes>"
      ]
     },
     "metadata": {},
     "output_type": "display_data"
    }
   ],
   "source": [
    "generateDBSCANplot(pointList, 1, 1)\n"
   ]
  },
  {
   "cell_type": "code",
   "execution_count": 37,
   "id": "6f40667d",
   "metadata": {},
   "outputs": [
    {
     "data": {
      "image/png": "[encoded data removed]",
      "text/plain": [
       "<Figure size 800x600 with 1 Axes>"
      ]
     },
     "metadata": {},
     "output_type": "display_data"
    }
   ],
   "source": [
    "generateDBSCANplot(pointList, 3, 2)\n"
   ]
  }
 ],
 "metadata": {
  "kernelspec": {
   "display_name": ".venv",
   "language": "python",
   "name": "python3"
  },
  "language_info": {
   "codemirror_mode": {
    "name": "ipython",
    "version": 3
   },
   "file_extension": ".py",
   "mimetype": "text/x-python",
   "name": "python",
   "nbconvert_exporter": "python",
   "pygments_lexer": "ipython3",
   "version": "3.13.3"
  }
 },
 "nbformat": 4,
 "nbformat_minor": 5
}
